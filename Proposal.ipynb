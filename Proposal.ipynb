{
  "cells": [
    {
      "cell_type": "markdown",
      "source": [
        "### Installing packages\n"
      ],
      "metadata": {
        "id": "ufwQrwVlBj-I"
      },
      "id": "ufwQrwVlBj-I"
    },
    {
      "cell_type": "code",
      "execution_count": 22,
      "id": "a3310c49-1c16-4910-bc6f-48d27345d828",
      "metadata": {
        "id": "a3310c49-1c16-4910-bc6f-48d27345d828",
        "outputId": "200dee7d-5e5f-44db-e74e-3ba309ee0da6",
        "colab": {
          "base_uri": "https://localhost:8080/"
        }
      },
      "outputs": [
        {
          "output_type": "stream",
          "name": "stderr",
          "text": [
            "Installing package into ‘/usr/local/lib/R/site-library’\n",
            "(as ‘lib’ is unspecified)\n",
            "\n",
            "Installing package into ‘/usr/local/lib/R/site-library’\n",
            "(as ‘lib’ is unspecified)\n",
            "\n",
            "Installing package into ‘/usr/local/lib/R/site-library’\n",
            "(as ‘lib’ is unspecified)\n",
            "\n",
            "Installing package into ‘/usr/local/lib/R/site-library’\n",
            "(as ‘lib’ is unspecified)\n",
            "\n",
            "Installing package into ‘/usr/local/lib/R/site-library’\n",
            "(as ‘lib’ is unspecified)\n",
            "\n"
          ]
        }
      ],
      "source": [
        "install.packages(\"tidyverse\")\n",
        "install.packages(\"cowplot\")\n",
        "install.packages(\"digest\")\n",
        "install.packages(\"infer\")\n",
        "install.packages(\"repr\")\n"
      ]
    },
    {
      "cell_type": "code",
      "source": [
        "library(cowplot)\n",
        "library(digest)\n",
        "library(infer)\n",
        "library(repr)\n",
        "library(tidyverse)"
      ],
      "metadata": {
        "id": "RC-tk21D_8O8"
      },
      "id": "RC-tk21D_8O8",
      "execution_count": 23,
      "outputs": []
    },
    {
      "cell_type": "code",
      "source": [],
      "metadata": {
        "id": "Usrk9ePaBYNX"
      },
      "id": "Usrk9ePaBYNX",
      "execution_count": null,
      "outputs": []
    },
    {
      "cell_type": "code",
      "execution_count": null,
      "id": "7f61bed8-799a-4923-bbed-d646a99467f9",
      "metadata": {
        "id": "7f61bed8-799a-4923-bbed-d646a99467f9",
        "outputId": "78af562a-55fb-47f5-967e-e4c4285f8534"
      },
      "outputs": [
        {
          "data": {
            "text/html": [
              "2"
            ],
            "text/latex": [
              "2"
            ],
            "text/markdown": [
              "2"
            ],
            "text/plain": [
              "[1] 2"
            ]
          },
          "metadata": {},
          "output_type": "display_data"
        }
      ],
      "source": [
        "1 + 1"
      ]
    }
  ],
  "metadata": {
    "kernelspec": {
      "display_name": "R",
      "language": "R",
      "name": "ir"
    },
    "language_info": {
      "codemirror_mode": "r",
      "file_extension": ".r",
      "mimetype": "text/x-r-source",
      "name": "R",
      "pygments_lexer": "r",
      "version": "4.0.5"
    },
    "colab": {
      "provenance": []
    }
  },
  "nbformat": 4,
  "nbformat_minor": 5
}