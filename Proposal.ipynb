{
 "cells": [
  {
   "cell_type": "markdown",
   "id": "ufwQrwVlBj-I",
   "metadata": {
    "id": "ufwQrwVlBj-I"
   },
   "source": [
    "### Installing packages\n"
   ]
  },
  {
   "cell_type": "code",
   "execution_count": 22,
   "id": "a3310c49-1c16-4910-bc6f-48d27345d828",
   "metadata": {
    "colab": {
     "base_uri": "https://localhost:8080/"
    },
    "id": "a3310c49-1c16-4910-bc6f-48d27345d828",
    "outputId": "200dee7d-5e5f-44db-e74e-3ba309ee0da6"
   },
   "outputs": [
    {
     "name": "stderr",
     "output_type": "stream",
     "text": [
      "Installing package into ‘/usr/local/lib/R/site-library’\n",
      "(as ‘lib’ is unspecified)\n",
      "\n",
      "Installing package into ‘/usr/local/lib/R/site-library’\n",
      "(as ‘lib’ is unspecified)\n",
      "\n",
      "Installing package into ‘/usr/local/lib/R/site-library’\n",
      "(as ‘lib’ is unspecified)\n",
      "\n",
      "Installing package into ‘/usr/local/lib/R/site-library’\n",
      "(as ‘lib’ is unspecified)\n",
      "\n",
      "Installing package into ‘/usr/local/lib/R/site-library’\n",
      "(as ‘lib’ is unspecified)\n",
      "\n"
     ]
    }
   ],
   "source": [
    "install.packages(\"tidyverse\")\n",
    "install.packages(\"cowplot\")\n",
    "install.packages(\"digest\")\n",
    "install.packages(\"infer\")\n",
    "install.packages(\"repr\")\n"
   ]
  },
  {
   "cell_type": "code",
   "execution_count": 23,
   "id": "RC-tk21D_8O8",
   "metadata": {
    "id": "RC-tk21D_8O8"
   },
   "outputs": [],
   "source": [
    "library(cowplot)\n",
    "library(digest)\n",
    "library(infer)\n",
    "library(repr)\n",
    "library(tidyverse)"
   ]
  },
  {
   "cell_type": "code",
   "execution_count": null,
   "id": "Usrk9ePaBYNX",
   "metadata": {
    "id": "Usrk9ePaBYNX"
   },
   "outputs": [],
   "source": []
  },
  {
   "cell_type": "code",
   "execution_count": 1,
   "id": "7f61bed8-799a-4923-bbed-d646a99467f9",
   "metadata": {
    "id": "7f61bed8-799a-4923-bbed-d646a99467f9",
    "outputId": "78af562a-55fb-47f5-967e-e4c4285f8534",
    "tags": []
   },
   "outputs": [
    {
     "data": {
      "text/html": [
       "3"
      ],
      "text/latex": [
       "3"
      ],
      "text/markdown": [
       "3"
      ],
      "text/plain": [
       "[1] 3"
      ]
     },
     "metadata": {},
     "output_type": "display_data"
    }
   ],
   "source": [
    "1 + 2"
   ]
  },
  {
   "cell_type": "code",
   "execution_count": null,
   "id": "a6ebc5f2-c902-486d-995e-0bb4e7a1cb31",
   "metadata": {},
   "outputs": [],
   "source": []
  }
 ],
 "metadata": {
  "colab": {
   "provenance": []
  },
  "kernelspec": {
   "display_name": "R",
   "language": "R",
   "name": "ir"
  },
  "language_info": {
   "codemirror_mode": "r",
   "file_extension": ".r",
   "mimetype": "text/x-r-source",
   "name": "R",
   "pygments_lexer": "r",
   "version": "4.2.3"
  }
 },
 "nbformat": 4,
 "nbformat_minor": 5
}
