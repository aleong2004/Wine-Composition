{
 "cells": [
  {
   "cell_type": "markdown",
   "id": "ufwQrwVlBj-I",
   "metadata": {
    "id": "ufwQrwVlBj-I"
   },
   "source": [
    "### Installing packages\n"
   ]
  },
  {
   "cell_type": "code",
   "execution_count": 22,
   "id": "a3310c49-1c16-4910-bc6f-48d27345d828",
   "metadata": {
    "colab": {
     "base_uri": "https://localhost:8080/"
    },
    "id": "a3310c49-1c16-4910-bc6f-48d27345d828",
    "outputId": "200dee7d-5e5f-44db-e74e-3ba309ee0da6"
   },
   "outputs": [
    {
     "name": "stderr",
     "output_type": "stream",
     "text": [
      "Installing package into ‘/usr/local/lib/R/site-library’\n",
      "(as ‘lib’ is unspecified)\n",
      "\n",
      "Installing package into ‘/usr/local/lib/R/site-library’\n",
      "(as ‘lib’ is unspecified)\n",
      "\n",
      "Installing package into ‘/usr/local/lib/R/site-library’\n",
      "(as ‘lib’ is unspecified)\n",
      "\n",
      "Installing package into ‘/usr/local/lib/R/site-library’\n",
      "(as ‘lib’ is unspecified)\n",
      "\n",
      "Installing package into ‘/usr/local/lib/R/site-library’\n",
      "(as ‘lib’ is unspecified)\n",
      "\n"
     ]
    }
   ],
   "source": [
    "install.packages(\"tidyverse\")\n",
    "install.packages(\"cowplot\")\n",
    "install.packages(\"digest\")\n",
    "install.packages(\"infer\")\n",
    "install.packages(\"repr\")\n"
   ]
  },
  {
   "cell_type": "code",
   "execution_count": 23,
   "id": "RC-tk21D_8O8",
   "metadata": {
    "id": "RC-tk21D_8O8"
   },
   "outputs": [],
   "source": [
    "library(cowplot)\n",
    "library(digest)\n",
    "library(infer)\n",
    "library(repr)\n",
    "library(tidyverse)"
   ]
  },
  {
   "cell_type": "code",
   "execution_count": null,
   "id": "Usrk9ePaBYNX",
   "metadata": {
    "id": "Usrk9ePaBYNX"
   },
   "outputs": [],
   "source": []
  },
  {
   "cell_type": "code",
   "execution_count": 1,
   "id": "7f61bed8-799a-4923-bbed-d646a99467f9",
   "metadata": {
    "id": "7f61bed8-799a-4923-bbed-d646a99467f9",
    "outputId": "78af562a-55fb-47f5-967e-e4c4285f8534",
    "tags": []
   },
   "outputs": [
    {
     "data": {
      "text/html": [
       "3"
      ],
      "text/latex": [
       "3"
      ],
      "text/markdown": [
       "3"
      ],
      "text/plain": [
       "[1] 3"
      ]
     },
     "metadata": {},
     "output_type": "display_data"
    }
   ],
   "source": [
    "1 + 2"
   ]
  },
  {
   "cell_type": "markdown",
   "id": "d2856036-f646-4e30-9bf2-c3c6078cf45b",
   "metadata": {},
   "source": [
    "# Methods: plan"
   ]
  },
  {
   "cell_type": "markdown",
   "id": "84917087-5eb1-455a-9183-1450f4b4a834",
   "metadata": {},
   "source": [
    "This report uses rigorous statistical inference methods such as hypothesis testing and confidence intervals to compare the mean of fixed acidity and volatile acidity for low-quality and high-quality red wine. Our data sources are reliable since they are sourced from the UC Irvine Machine Learning Repository. As a result, our reports are trustworthy. \\\n"
   ]
  },
  {
   "cell_type": "markdown",
   "id": "6a0cea17-a4ce-4ddf-a524-92bf65607152",
   "metadata": {},
   "source": [
    "Although we Plot the relevant raw data and Compute estimates of the population mean. Our approach does not infer if competing hypotheses are reasonable and does not capture the uncertainty of the estimated parameters. We improve these weaknesses by doing hypothesis tests and confidence intervals. We chose to use bootstrap sampling for hypothesis testing and calculating confidence intervals."
   ]
  },
  {
   "cell_type": "markdown",
   "id": "2cdd7b1c-23d5-42cd-8227-78bdd4b67282",
   "metadata": {},
   "source": [
    "We decided to make $\\alpha = 0.1$ \\\n",
    "Two hypothesis tests are required since we look at fixed and volatile acidity. \\\n",
    "Hypothesis tests 1: \\\n",
    "$H_0 =$ high quality and low quality red wines have the same mean of fixed acidity\\\n",
    "$H_1 =$ high quality and low quality red wines have the different mean of fixed acidity \n",
    "\n",
    "Hypothesis tests 2: \\\n",
    "$H_0 =$ high quality and low quality red wines have the same mean of volatile acidity\\\n",
    "$H_1 =$ high quality and low quality red wines have the different mean of volatile acidity \n"
   ]
  },
  {
   "cell_type": "markdown",
   "id": "66b85178-6ab9-4849-b4e8-34994afc486e",
   "metadata": {},
   "source": [
    "We decided to use $90 \\%$ confidence interval. We will calculating the confidence interval of two sample mean for fixed acidity: mean of fixed acidity of low quality red wines and mean of fixed acidity of high quality red wine.\n",
    "and the confidence interval of two sample mean for volatile acidity: mean of volatile acidity of low quality red wines and mean of volatile acidity of high quality red wine. Thus We can conduct that we are $90 \\%$ “confident” that a $90 \\% $confidence interval captures the value of the population parameter from what range."
   ]
  },
  {
   "cell_type": "markdown",
   "id": "f82652a5-3e95-455a-813d-dd02668e6577",
   "metadata": {
    "tags": []
   },
   "source": [
    "- What do you expect to find? \\\n",
    "We expect the mean of fixed acidity and volatile acidity for low-quality and high-quality red wine are different.\n",
    "\n",
    "- What impact could such findings have? \\\n",
    "Producers can improve their processes to achieve the fixed acidity and volatile acidity required for high quality of red wines.\\\n",
    "Consumers can decide the quality of red wine by determining whether or not the fixed acidity and volatile acidity meet the requirements for a high quality red wine.\n",
    "- What future questions could this lead to?\\\n",
    "Exploring the relationship between acidity and sensation in red wines."
   ]
  },
  {
   "cell_type": "markdown",
   "id": "00df85ee-6974-40bf-913d-024c861d0e92",
   "metadata": {},
   "source": []
  }
 ],
 "metadata": {
  "colab": {
   "provenance": []
  },
  "kernelspec": {
   "display_name": "R",
   "language": "R",
   "name": "ir"
  },
  "language_info": {
   "codemirror_mode": "r",
   "file_extension": ".r",
   "mimetype": "text/x-r-source",
   "name": "R",
   "pygments_lexer": "r",
   "version": "4.2.3"
  }
 },
 "nbformat": 4,
 "nbformat_minor": 5
}
